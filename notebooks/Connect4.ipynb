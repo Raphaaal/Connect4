{
 "cells": [
  {
   "cell_type": "code",
   "execution_count": 1,
   "metadata": {
    "collapsed": false
   },
   "outputs": [],
   "source": [
    "import sys\n",
    "sys.path.insert(0, \"C:/Users/marc-/IASD/Monte Carlo/Connect4Project\")"
   ]
  },
  {
   "cell_type": "code",
   "execution_count": 2,
   "metadata": {
    "collapsed": false
   },
   "outputs": [],
   "source": [
    "from src.game.board import Board\n",
    "from src.game.fight import fight\n",
    "from src.common.constants import * \n",
    "import numpy as np"
   ]
  },
  {
   "cell_type": "code",
   "execution_count": 3,
   "metadata": {
    "collapsed": true
   },
   "outputs": [],
   "source": [
    "board = Board()"
   ]
  },
  {
   "cell_type": "code",
   "execution_count": null,
   "metadata": {
    "collapsed": false
   },
   "outputs": [],
   "source": [
    "board.playout(verbose=True)"
   ]
  },
  {
   "cell_type": "code",
   "execution_count": null,
   "metadata": {
    "collapsed": false
   },
   "outputs": [],
   "source": [
    "move = board.flat_mc()"
   ]
  },
  {
   "cell_type": "code",
   "execution_count": null,
   "metadata": {
    "collapsed": false
   },
   "outputs": [],
   "source": [
    "move.render()"
   ]
  },
  {
   "cell_type": "code",
   "execution_count": 4,
   "metadata": {
    "collapsed": false
   },
   "outputs": [
    {
     "name": "stdout",
     "output_type": "stream",
     "text": [
      "[[0 0 0 0 0 0]\n",
      " [0 0 0 0 0 0]\n",
      " [0 0 0 0 0 0]\n",
      " [0 0 0 0 0 0]\n",
      " [0 0 0 0 0 0]\n",
      " [0 0 0 0 0 0]]\n",
      "Turn 2\n",
      "[[0 0 0 0 0 0]\n",
      " [0 0 0 0 0 0]\n",
      " [0 0 0 0 0 0]\n",
      " [0 0 0 0 0 0]\n",
      " [0 0 0 0 0 0]\n",
      " [0 0 2 0 0 0]]\n",
      "Turn 1\n",
      "In which column do you want to insert your token ?3\n",
      "Let's do that\n",
      "[[0 0 0 0 0 0]\n",
      " [0 0 0 0 0 0]\n",
      " [0 0 0 0 0 0]\n",
      " [0 0 0 0 0 0]\n",
      " [0 0 0 0 0 0]\n",
      " [0 0 2 1 0 0]]\n",
      "Turn 2\n",
      "[[0 0 0 0 0 0]\n",
      " [0 0 0 0 0 0]\n",
      " [0 0 0 0 0 0]\n",
      " [0 0 0 0 0 0]\n",
      " [0 0 2 0 0 0]\n",
      " [0 0 2 1 0 0]]\n",
      "Turn 1\n",
      "In which column do you want to insert your token ?1\n",
      "Let's do that\n",
      "[[0 0 0 0 0 0]\n",
      " [0 0 0 0 0 0]\n",
      " [0 0 0 0 0 0]\n",
      " [0 0 0 0 0 0]\n",
      " [0 0 2 0 0 0]\n",
      " [0 1 2 1 0 0]]\n",
      "Turn 2\n",
      "[[0 0 0 0 0 0]\n",
      " [0 0 0 0 0 0]\n",
      " [0 0 0 0 0 0]\n",
      " [0 0 2 0 0 0]\n",
      " [0 0 2 0 0 0]\n",
      " [0 1 2 1 0 0]]\n",
      "Turn 1\n",
      "In which column do you want to insert your token ?2\n",
      "Let's do that\n",
      "[[0 0 0 0 0 0]\n",
      " [0 0 0 0 0 0]\n",
      " [0 0 1 0 0 0]\n",
      " [0 0 2 0 0 0]\n",
      " [0 0 2 0 0 0]\n",
      " [0 1 2 1 0 0]]\n",
      "Turn 2\n",
      "[[0 0 0 0 0 0]\n",
      " [0 0 0 0 0 0]\n",
      " [0 0 1 0 0 0]\n",
      " [0 0 2 0 0 0]\n",
      " [0 0 2 2 0 0]\n",
      " [0 1 2 1 0 0]]\n",
      "Turn 1\n",
      "In which column do you want to insert your token ?1\n",
      "Let's do that\n",
      "[[0 0 0 0 0 0]\n",
      " [0 0 0 0 0 0]\n",
      " [0 0 1 0 0 0]\n",
      " [0 0 2 0 0 0]\n",
      " [0 1 2 2 0 0]\n",
      " [0 1 2 1 0 0]]\n",
      "Turn 2\n",
      "[[0 0 0 0 0 0]\n",
      " [0 0 0 0 0 0]\n",
      " [0 0 1 0 0 0]\n",
      " [0 2 2 0 0 0]\n",
      " [0 1 2 2 0 0]\n",
      " [0 1 2 1 0 0]]\n",
      "Turn 1\n",
      "In which column do you want to insert your token ?1\n",
      "Let's do that\n",
      "[[0 0 0 0 0 0]\n",
      " [0 0 0 0 0 0]\n",
      " [0 1 1 0 0 0]\n",
      " [0 2 2 0 0 0]\n",
      " [0 1 2 2 0 0]\n",
      " [0 1 2 1 0 0]]\n",
      "Turn 2\n",
      "[[0 0 0 0 0 0]\n",
      " [0 0 0 0 0 0]\n",
      " [0 1 1 0 0 0]\n",
      " [0 2 2 2 0 0]\n",
      " [0 1 2 2 0 0]\n",
      " [0 1 2 1 0 0]]\n",
      "Turn 1\n",
      "In which column do you want to insert your token ?3\n",
      "Let's do that\n",
      "[[0 0 0 0 0 0]\n",
      " [0 0 0 0 0 0]\n",
      " [0 1 1 1 0 0]\n",
      " [0 2 2 2 0 0]\n",
      " [0 1 2 2 0 0]\n",
      " [0 1 2 1 0 0]]\n",
      "Turn 2\n",
      "[[0 0 0 0 0 0]\n",
      " [0 0 2 0 0 0]\n",
      " [0 1 1 1 0 0]\n",
      " [0 2 2 2 0 0]\n",
      " [0 1 2 2 0 0]\n",
      " [0 1 2 1 0 0]]\n",
      "Turn 1\n",
      "In which column do you want to insert your token ?0\n",
      "Let's do that\n",
      "[[0 0 0 0 0 0]\n",
      " [0 0 2 0 0 0]\n",
      " [0 1 1 1 0 0]\n",
      " [0 2 2 2 0 0]\n",
      " [0 1 2 2 0 0]\n",
      " [1 1 2 1 0 0]]\n",
      "Turn 2\n",
      "[[0 0 2 0 0 0]\n",
      " [0 0 2 0 0 0]\n",
      " [0 1 1 1 0 0]\n",
      " [0 2 2 2 0 0]\n",
      " [0 1 2 2 0 0]\n",
      " [1 1 2 1 0 0]]\n",
      "Turn 1\n",
      "In which column do you want to insert your token ?0\n",
      "Let's do that\n",
      "[[0 0 2 0 0 0]\n",
      " [0 0 2 0 0 0]\n",
      " [0 1 1 1 0 0]\n",
      " [0 2 2 2 0 0]\n",
      " [1 1 2 2 0 0]\n",
      " [1 1 2 1 0 0]]\n",
      "Turn 2\n",
      "[[0 0 2 0 0 0]\n",
      " [0 0 2 0 0 0]\n",
      " [0 1 1 1 0 0]\n",
      " [2 2 2 2 0 0]\n",
      " [1 1 2 2 0 0]\n",
      " [1 1 2 1 0 0]]\n"
     ]
    },
    {
     "data": {
      "text/plain": [
       "2"
      ]
     },
     "execution_count": 4,
     "metadata": {},
     "output_type": "execute_result"
    }
   ],
   "source": [
    "fight(\"flat_mc\", \"manual_move\", nb_playouts=4000)"
   ]
  },
  {
   "cell_type": "code",
   "execution_count": null,
   "metadata": {
    "collapsed": true
   },
   "outputs": [],
   "source": []
  }
 ],
 "metadata": {
  "kernelspec": {
   "display_name": "Python 3",
   "language": "python",
   "name": "python3"
  },
  "language_info": {
   "codemirror_mode": {
    "name": "ipython",
    "version": 3
   },
   "file_extension": ".py",
   "mimetype": "text/x-python",
   "name": "python",
   "nbconvert_exporter": "python",
   "pygments_lexer": "ipython3",
   "version": "3.6.0"
  }
 },
 "nbformat": 4,
 "nbformat_minor": 2
}
