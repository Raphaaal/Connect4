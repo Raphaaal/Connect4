{
 "cells": [
  {
   "cell_type": "code",
   "execution_count": 1,
   "metadata": {},
   "outputs": [],
   "source": [
    "import sys\n",
    "#sys.path.insert(0, \"C:/Users/marc-/IASD/Monte Carlo/Connect4\")\n",
    "sys.path.insert(0, \"/Users/alopez/Connect4\")"
   ]
  },
  {
   "cell_type": "code",
   "execution_count": 2,
   "metadata": {},
   "outputs": [],
   "source": [
    "from src.game.board import Board\n",
    "from src.game.fight import fight\n",
    "from src.game.contest import contest\n",
    "from src.common.constants import * "
   ]
  },
  {
   "cell_type": "markdown",
   "metadata": {},
   "source": [
    "### Playout"
   ]
  },
  {
   "cell_type": "code",
   "execution_count": 3,
   "metadata": {},
   "outputs": [],
   "source": [
    "board = Board()"
   ]
  },
  {
   "cell_type": "code",
   "execution_count": 4,
   "metadata": {},
   "outputs": [
    {
     "name": "stdout",
     "output_type": "stream",
     "text": [
      "-------------\n",
      "[[0 0 0 0 0 0 0]\n",
      " [0 0 0 0 0 0 0]\n",
      " [0 0 0 0 0 0 0]\n",
      " [0 0 0 0 0 0 0]\n",
      " [0 0 0 0 0 0 0]\n",
      " [0 0 0 0 1 0 0]]\n",
      "-------------\n",
      "[[0 0 0 0 0 0 0]\n",
      " [0 0 0 0 0 0 0]\n",
      " [0 0 0 0 0 0 0]\n",
      " [0 0 0 0 0 0 0]\n",
      " [0 0 0 0 0 0 0]\n",
      " [0 0 0 2 1 0 0]]\n",
      "-------------\n",
      "[[0 0 0 0 0 0 0]\n",
      " [0 0 0 0 0 0 0]\n",
      " [0 0 0 0 0 0 0]\n",
      " [0 0 0 0 0 0 0]\n",
      " [0 0 0 0 0 0 0]\n",
      " [1 0 0 2 1 0 0]]\n",
      "-------------\n",
      "[[0 0 0 0 0 0 0]\n",
      " [0 0 0 0 0 0 0]\n",
      " [0 0 0 0 0 0 0]\n",
      " [0 0 0 0 0 0 0]\n",
      " [0 0 0 2 0 0 0]\n",
      " [1 0 0 2 1 0 0]]\n",
      "-------------\n",
      "[[0 0 0 0 0 0 0]\n",
      " [0 0 0 0 0 0 0]\n",
      " [0 0 0 0 0 0 0]\n",
      " [0 0 0 0 0 0 0]\n",
      " [0 0 0 2 1 0 0]\n",
      " [1 0 0 2 1 0 0]]\n",
      "-------------\n",
      "[[0 0 0 0 0 0 0]\n",
      " [0 0 0 0 0 0 0]\n",
      " [0 0 0 0 0 0 0]\n",
      " [0 0 0 0 0 0 0]\n",
      " [2 0 0 2 1 0 0]\n",
      " [1 0 0 2 1 0 0]]\n",
      "-------------\n",
      "[[0 0 0 0 0 0 0]\n",
      " [0 0 0 0 0 0 0]\n",
      " [0 0 0 0 0 0 0]\n",
      " [0 0 0 0 0 0 0]\n",
      " [2 0 0 2 1 0 0]\n",
      " [1 0 0 2 1 0 1]]\n",
      "-------------\n",
      "[[0 0 0 0 0 0 0]\n",
      " [0 0 0 0 0 0 0]\n",
      " [0 0 0 0 0 0 0]\n",
      " [0 0 0 0 0 0 0]\n",
      " [2 0 0 2 1 0 0]\n",
      " [1 0 2 2 1 0 1]]\n",
      "-------------\n",
      "[[0 0 0 0 0 0 0]\n",
      " [0 0 0 0 0 0 0]\n",
      " [0 0 0 0 0 0 0]\n",
      " [0 0 0 0 0 0 0]\n",
      " [2 0 1 2 1 0 0]\n",
      " [1 0 2 2 1 0 1]]\n",
      "-------------\n",
      "[[0 0 0 0 0 0 0]\n",
      " [0 0 0 0 0 0 0]\n",
      " [0 0 0 0 0 0 0]\n",
      " [0 0 0 0 2 0 0]\n",
      " [2 0 1 2 1 0 0]\n",
      " [1 0 2 2 1 0 1]]\n",
      "-------------\n",
      "[[0 0 0 0 0 0 0]\n",
      " [0 0 0 0 0 0 0]\n",
      " [0 0 0 0 0 0 0]\n",
      " [0 0 0 0 2 0 0]\n",
      " [2 0 1 2 1 0 1]\n",
      " [1 0 2 2 1 0 1]]\n",
      "-------------\n",
      "[[0 0 0 0 0 0 0]\n",
      " [0 0 0 0 0 0 0]\n",
      " [0 0 0 0 0 0 0]\n",
      " [0 0 0 0 2 0 0]\n",
      " [2 0 1 2 1 0 1]\n",
      " [1 2 2 2 1 0 1]]\n",
      "-------------\n",
      "[[0 0 0 0 0 0 0]\n",
      " [0 0 0 0 0 0 0]\n",
      " [0 0 0 0 0 0 0]\n",
      " [0 0 0 0 2 0 1]\n",
      " [2 0 1 2 1 0 1]\n",
      " [1 2 2 2 1 0 1]]\n",
      "-------------\n",
      "[[0 0 0 0 0 0 0]\n",
      " [0 0 0 0 0 0 0]\n",
      " [0 0 0 0 0 0 0]\n",
      " [2 0 0 0 2 0 1]\n",
      " [2 0 1 2 1 0 1]\n",
      " [1 2 2 2 1 0 1]]\n",
      "-------------\n",
      "[[0 0 0 0 0 0 0]\n",
      " [0 0 0 0 0 0 0]\n",
      " [0 0 0 0 0 0 0]\n",
      " [2 0 1 0 2 0 1]\n",
      " [2 0 1 2 1 0 1]\n",
      " [1 2 2 2 1 0 1]]\n",
      "-------------\n",
      "[[0 0 0 0 0 0 0]\n",
      " [0 0 0 0 0 0 0]\n",
      " [2 0 0 0 0 0 0]\n",
      " [2 0 1 0 2 0 1]\n",
      " [2 0 1 2 1 0 1]\n",
      " [1 2 2 2 1 0 1]]\n",
      "-------------\n",
      "[[0 0 0 0 0 0 0]\n",
      " [1 0 0 0 0 0 0]\n",
      " [2 0 0 0 0 0 0]\n",
      " [2 0 1 0 2 0 1]\n",
      " [2 0 1 2 1 0 1]\n",
      " [1 2 2 2 1 0 1]]\n",
      "-------------\n",
      "[[2 0 0 0 0 0 0]\n",
      " [1 0 0 0 0 0 0]\n",
      " [2 0 0 0 0 0 0]\n",
      " [2 0 1 0 2 0 1]\n",
      " [2 0 1 2 1 0 1]\n",
      " [1 2 2 2 1 0 1]]\n",
      "-------------\n",
      "[[2 0 0 0 0 0 0]\n",
      " [1 0 0 0 0 0 0]\n",
      " [2 0 0 0 0 0 0]\n",
      " [2 0 1 1 2 0 1]\n",
      " [2 0 1 2 1 0 1]\n",
      " [1 2 2 2 1 0 1]]\n",
      "-------------\n",
      "[[2 0 0 0 0 0 0]\n",
      " [1 0 0 0 0 0 0]\n",
      " [2 0 0 0 0 0 0]\n",
      " [2 0 1 1 2 0 1]\n",
      " [2 2 1 2 1 0 1]\n",
      " [1 2 2 2 1 0 1]]\n",
      "-------------\n",
      "[[2 0 0 0 0 0 0]\n",
      " [1 0 0 0 0 0 0]\n",
      " [2 0 0 0 0 0 1]\n",
      " [2 0 1 1 2 0 1]\n",
      " [2 2 1 2 1 0 1]\n",
      " [1 2 2 2 1 0 1]]\n"
     ]
    },
    {
     "data": {
      "text/plain": [
       "1"
      ]
     },
     "execution_count": 4,
     "metadata": {},
     "output_type": "execute_result"
    }
   ],
   "source": [
    "board.playout(verbose=True)"
   ]
  },
  {
   "cell_type": "markdown",
   "metadata": {},
   "source": [
    "### Flat MC"
   ]
  },
  {
   "cell_type": "code",
   "execution_count": 5,
   "metadata": {},
   "outputs": [],
   "source": [
    "board = Board()"
   ]
  },
  {
   "cell_type": "code",
   "execution_count": 6,
   "metadata": {},
   "outputs": [
    {
     "name": "stdout",
     "output_type": "stream",
     "text": [
      "CPU times: user 1.01 s, sys: 22 ms, total: 1.03 s\n",
      "Wall time: 1.03 s\n"
     ]
    }
   ],
   "source": [
    "%%time\n",
    "move = board.flat_mc()"
   ]
  },
  {
   "cell_type": "code",
   "execution_count": 7,
   "metadata": {},
   "outputs": [
    {
     "name": "stdout",
     "output_type": "stream",
     "text": [
      "color : 1, column: 3.\n"
     ]
    }
   ],
   "source": [
    "move.render()"
   ]
  },
  {
   "cell_type": "markdown",
   "metadata": {},
   "source": [
    "### Random vs Flat MC"
   ]
  },
  {
   "cell_type": "code",
   "execution_count": null,
   "metadata": {},
   "outputs": [],
   "source": [
    "contest(\"flat_mc\", \"random_move\", nb_fights=100, nb_playouts=500)"
   ]
  },
  {
   "cell_type": "markdown",
   "metadata": {},
   "source": [
    "### UCB "
   ]
  },
  {
   "cell_type": "code",
   "execution_count": null,
   "metadata": {
    "collapsed": true
   },
   "outputs": [],
   "source": [
    "board = Board()"
   ]
  },
  {
   "cell_type": "code",
   "execution_count": null,
   "metadata": {},
   "outputs": [],
   "source": [
    "%%time\n",
    "move = board.ucb()"
   ]
  },
  {
   "cell_type": "code",
   "execution_count": null,
   "metadata": {},
   "outputs": [],
   "source": [
    "move.render()"
   ]
  },
  {
   "cell_type": "markdown",
   "metadata": {},
   "source": [
    "### UCB vs FlatMC"
   ]
  },
  {
   "cell_type": "code",
   "execution_count": 9,
   "metadata": {},
   "outputs": [
    {
     "name": "stderr",
     "output_type": "stream",
     "text": [
      "100%|██████████| 100/100 [01:58<00:00,  1.19s/it]\n"
     ]
    },
    {
     "data": {
      "text/plain": [
       "{'flat_mc': 0.4, 'ucb': 0.6, 'tie': 0.0}"
      ]
     },
     "execution_count": 9,
     "metadata": {},
     "output_type": "execute_result"
    }
   ],
   "source": [
    "contest(\"flat_mc\", \"ucb\", nb_fights=100, nb_playouts=100)"
   ]
  },
  {
   "cell_type": "markdown",
   "metadata": {},
   "source": [
    "### UCB_bis vs FlatMC"
   ]
  },
  {
   "cell_type": "code",
   "execution_count": 3,
   "metadata": {},
   "outputs": [
    {
     "name": "stderr",
     "output_type": "stream",
     "text": [
      "100%|██████████| 100/100 [01:57<00:00,  1.18s/it]\n"
     ]
    },
    {
     "data": {
      "text/plain": [
       "{'flat_mc': 0.38, 'ucb_bis': 0.62, 'tie': 0.0}"
      ]
     },
     "execution_count": 3,
     "metadata": {},
     "output_type": "execute_result"
    }
   ],
   "source": [
    "contest(\"flat_mc\", \"ucb_bis\", nb_fights=100, nb_playouts=100)"
   ]
  },
  {
   "cell_type": "markdown",
   "metadata": {
    "collapsed": true
   },
   "source": [
    "### UCT"
   ]
  },
  {
   "cell_type": "code",
   "execution_count": null,
   "metadata": {
    "collapsed": true
   },
   "outputs": [],
   "source": [
    "board = Board()"
   ]
  },
  {
   "cell_type": "code",
   "execution_count": null,
   "metadata": {},
   "outputs": [],
   "source": [
    "%%time\n",
    "move = board.uct_search()"
   ]
  },
  {
   "cell_type": "code",
   "execution_count": null,
   "metadata": {},
   "outputs": [],
   "source": [
    "move.render()"
   ]
  },
  {
   "cell_type": "markdown",
   "metadata": {},
   "source": [
    "### UCT vs FlatMC (à remplacer par UCB quand il marchera)"
   ]
  },
  {
   "cell_type": "code",
   "execution_count": null,
   "metadata": {},
   "outputs": [],
   "source": [
    "contest(\"flat_mc\", \"uct_search\", nb_fights=20, nb_playouts=100)"
   ]
  },
  {
   "cell_type": "code",
   "execution_count": null,
   "metadata": {
    "collapsed": true
   },
   "outputs": [],
   "source": []
  }
 ],
 "metadata": {
  "kernelspec": {
   "display_name": "Python 3",
   "language": "python",
   "name": "python3"
  },
  "language_info": {
   "codemirror_mode": {
    "name": "ipython",
    "version": 3
   },
   "file_extension": ".py",
   "mimetype": "text/x-python",
   "name": "python",
   "nbconvert_exporter": "python",
   "pygments_lexer": "ipython3",
   "version": "3.7.6"
  }
 },
 "nbformat": 4,
 "nbformat_minor": 2
}
