{
 "cells": [
  {
   "cell_type": "code",
   "execution_count": 1,
   "metadata": {},
   "outputs": [],
   "source": [
    "import sys\n",
    "sys.path.insert(0, \"C:/Users/marc-/IASD/Monte Carlo/Connect4\")\n",
    "sys.path.insert(0, \"/Users/alopez/Connect4\")"
   ]
  },
  {
   "cell_type": "code",
   "execution_count": 2,
   "metadata": {},
   "outputs": [],
   "source": [
    "from src.game.board import Board\n",
    "from src.game.fight import fight\n",
    "from src.game.contest import contest\n",
    "from src.common.constants import * "
   ]
  },
  {
   "cell_type": "markdown",
   "metadata": {},
   "source": [
    "# Playout"
   ]
  },
  {
   "cell_type": "code",
   "execution_count": 5,
   "metadata": {
    "collapsed": true
   },
   "outputs": [],
   "source": [
    "board = Board()"
   ]
  },
  {
   "cell_type": "code",
   "execution_count": null,
   "metadata": {
    "collapsed": true
   },
   "outputs": [],
   "source": [
    "board.playout(verbose=True)"
   ]
  },
  {
   "cell_type": "markdown",
   "metadata": {},
   "source": [
    "# Flat MC"
   ]
  },
  {
   "cell_type": "markdown",
   "metadata": {},
   "source": [
    "### Random vs Flat MC"
   ]
  },
  {
   "cell_type": "code",
   "execution_count": 22,
   "metadata": {},
   "outputs": [
    {
     "name": "stderr",
     "output_type": "stream",
     "text": [
      "100%|████████████████████████████████████████████████████████████████████████████████| 100/100 [03:16<00:00,  1.97s/it]\n"
     ]
    },
    {
     "data": {
      "text/plain": [
       "{'flat_mc': 1.0, 'random_move': 0.0, 'tie': 0.0}"
      ]
     },
     "execution_count": 22,
     "metadata": {},
     "output_type": "execute_result"
    }
   ],
   "source": [
    "contest(\"flat_mc\", False, \"random_move\", False, nb_fights=100, nb_playouts=500)"
   ]
  },
  {
   "cell_type": "markdown",
   "metadata": {},
   "source": [
    "# UCB "
   ]
  },
  {
   "cell_type": "markdown",
   "metadata": {},
   "source": [
    "### UCB vs FlatMC"
   ]
  },
  {
   "cell_type": "code",
   "execution_count": 4,
   "metadata": {},
   "outputs": [
    {
     "name": "stderr",
     "output_type": "stream",
     "text": [
      "100%|████████████████████████████████████████████████████████████████████████████████| 200/200 [48:34<00:00, 14.57s/it]\n"
     ]
    },
    {
     "data": {
      "text/plain": [
       "{'flat_mc': 0.455, 'tie': 0.0, 'ucb': 0.545}"
      ]
     },
     "execution_count": 4,
     "metadata": {},
     "output_type": "execute_result"
    }
   ],
   "source": [
    "contest(\"flat_mc\", False, \"ucb\", False, nb_fights=200, nb_playouts=1000)"
   ]
  },
  {
   "cell_type": "markdown",
   "metadata": {
    "collapsed": true
   },
   "source": [
    "# UCT"
   ]
  },
  {
   "cell_type": "markdown",
   "metadata": {},
   "source": [
    "### UCT vs FlatMC"
   ]
  },
  {
   "cell_type": "code",
   "execution_count": 3,
   "metadata": {},
   "outputs": [
    {
     "name": "stderr",
     "output_type": "stream",
     "text": [
      "100%|████████████████████████████████████████████████████████████████████████████████| 100/100 [30:50<00:00, 18.51s/it]\n"
     ]
    },
    {
     "data": {
      "text/plain": [
       "{'flat_mc': 0.27, 'tie': 0.0, 'uct_search': 0.73}"
      ]
     },
     "execution_count": 3,
     "metadata": {},
     "output_type": "execute_result"
    }
   ],
   "source": [
    "contest(\"flat_mc\", False, \"uct_search\", True, nb_fights=100, nb_playouts=1000) "
   ]
  },
  {
   "cell_type": "markdown",
   "metadata": {},
   "source": [
    "### UCT vs UCB"
   ]
  },
  {
   "cell_type": "code",
   "execution_count": 5,
   "metadata": {},
   "outputs": [
    {
     "name": "stderr",
     "output_type": "stream",
     "text": [
      "100%|████████████████████████████████████████████████████████████████████████████████| 100/100 [30:00<00:00, 18.01s/it]\n"
     ]
    },
    {
     "data": {
      "text/plain": [
       "{'tie': 0.0, 'ucb': 0.15, 'uct_search': 0.85}"
      ]
     },
     "execution_count": 5,
     "metadata": {},
     "output_type": "execute_result"
    }
   ],
   "source": [
    "contest(\"uct_search\",True, \"ucb\", False, nb_fights=100, nb_playouts=1000)"
   ]
  },
  {
   "cell_type": "markdown",
   "metadata": {},
   "source": [
    "# RAVE"
   ]
  },
  {
   "cell_type": "markdown",
   "metadata": {
    "collapsed": true
   },
   "source": [
    "### RAVE vs FLAT"
   ]
  },
  {
   "cell_type": "code",
   "execution_count": 5,
   "metadata": {},
   "outputs": [
    {
     "name": "stderr",
     "output_type": "stream",
     "text": [
      "100%|██████████████████████████████████████████████████████████████████████████████| 100/100 [2:21:47<00:00, 85.07s/it]\n"
     ]
    },
    {
     "data": {
      "text/plain": [
       "{'flat_mc': 0.19, 'rave_search': 0.78, 'tie': 0.03}"
      ]
     },
     "execution_count": 5,
     "metadata": {},
     "output_type": "execute_result"
    }
   ],
   "source": [
    "contest(\"rave_search\", True, \"flat_mc\", False, nb_fights=100, nb_playouts=1000) "
   ]
  },
  {
   "cell_type": "markdown",
   "metadata": {},
   "source": [
    "### RAVE vs UCB"
   ]
  },
  {
   "cell_type": "code",
   "execution_count": null,
   "metadata": {},
   "outputs": [
    {
     "name": "stderr",
     "output_type": "stream",
     "text": [
      "100%|██████████████████████████████████████████████████████████████████████████████| 100/100 [2:18:21<00:00, 83.02s/it]\n"
     ]
    },
    {
     "data": {
      "text/plain": [
       "{'rave_search': 0.74, 'tie': 0.04, 'ucb': 0.22}"
      ]
     },
     "execution_count": 4,
     "metadata": {},
     "output_type": "execute_result"
    }
   ],
   "source": [
    "contest(\"rave_search\", True, \"ucb\", False, nb_fights=100, nb_playouts=1000) "
   ]
  },
  {
   "cell_type": "markdown",
   "metadata": {},
   "source": [
    "### RAVE vs UCT"
   ]
  },
  {
   "cell_type": "code",
   "execution_count": null,
   "metadata": {},
   "outputs": [
    {
     "name": "stderr",
     "output_type": "stream",
     "text": [
      "100%|█████████████████████████████████████████████████████████████████████████████| 100/100 [2:47:28<00:00, 100.49s/it]\n"
     ]
    },
    {
     "data": {
      "text/plain": [
       "{'rave_search': 0.49, 'tie': 0.06, 'uct_search': 0.45}"
      ]
     },
     "execution_count": 5,
     "metadata": {},
     "output_type": "execute_result"
    }
   ],
   "source": [
    "contest(\"rave_search\", True, \"uct_search\", True, nb_fights=100, nb_playouts=1000)"
   ]
  },
  {
   "cell_type": "markdown",
   "metadata": {},
   "source": [
    "# GRAVE"
   ]
  },
  {
   "cell_type": "markdown",
   "metadata": {},
   "source": [
    "### GRAVE vs FLAT"
   ]
  },
  {
   "cell_type": "code",
   "execution_count": 3,
   "metadata": {},
   "outputs": [
    {
     "name": "stderr",
     "output_type": "stream",
     "text": [
      "100%|█████████████████████████████████████████████████████████████████████████████| 100/100 [2:57:35<00:00, 106.55s/it]\n"
     ]
    },
    {
     "data": {
      "text/plain": [
       "{'flat_mc': 0.2, 'grave_search': 0.76, 'tie': 0.04}"
      ]
     },
     "execution_count": 3,
     "metadata": {},
     "output_type": "execute_result"
    }
   ],
   "source": [
    "contest(\"grave_search\", True, \"flat_mc\", False, nb_fights=100, nb_playouts=1000) "
   ]
  },
  {
   "cell_type": "markdown",
   "metadata": {},
   "source": [
    "### GRAVE vs UCB"
   ]
  },
  {
   "cell_type": "code",
   "execution_count": 3,
   "metadata": {},
   "outputs": [
    {
     "name": "stderr",
     "output_type": "stream",
     "text": [
      "100%|██████████████████████████████████████████████████████████████████████████████| 100/100 [2:46:35<00:00, 99.95s/it]\n"
     ]
    },
    {
     "data": {
      "text/plain": [
       "{'grave_search': 0.59, 'tie': 0.02, 'ucb': 0.39}"
      ]
     },
     "execution_count": 3,
     "metadata": {},
     "output_type": "execute_result"
    }
   ],
   "source": [
    "contest(\"grave_search\", True, \"ucb\", False, nb_fights=100, nb_playouts=1000)"
   ]
  },
  {
   "cell_type": "markdown",
   "metadata": {},
   "source": [
    "### GRAVE vs UCT"
   ]
  },
  {
   "cell_type": "code",
   "execution_count": 4,
   "metadata": {},
   "outputs": [
    {
     "name": "stderr",
     "output_type": "stream",
     "text": [
      "100%|█████████████████████████████████████████████████████████████████████████████| 100/100 [2:50:39<00:00, 102.40s/it]\n"
     ]
    },
    {
     "data": {
      "text/plain": [
       "{'grave_search': 0.42, 'tie': 0.08, 'uct_search': 0.5}"
      ]
     },
     "execution_count": 4,
     "metadata": {},
     "output_type": "execute_result"
    }
   ],
   "source": [
    "contest(\"grave_search\", True, \"uct_search\", True, nb_fights=100, nb_playouts=1000)"
   ]
  },
  {
   "cell_type": "markdown",
   "metadata": {},
   "source": [
    "### GRAVE vs RAVE"
   ]
  },
  {
   "cell_type": "code",
   "execution_count": 3,
   "metadata": {},
   "outputs": [
    {
     "name": "stderr",
     "output_type": "stream",
     "text": [
      "100%|██████████| 100/100 [6:03:36<00:00, 218.17s/it] \n"
     ]
    },
    {
     "data": {
      "text/plain": [
       "{'rave_search': 0.57, 'grave_search': 0.35, 'tie': 0.08}"
      ]
     },
     "execution_count": 3,
     "metadata": {},
     "output_type": "execute_result"
    }
   ],
   "source": [
    "contest(\"rave_search\", True, \"grave_search\", True, nb_fights=100, nb_playouts=1000)"
   ]
  }
 ],
 "metadata": {
  "kernelspec": {
   "display_name": "Python 3",
   "language": "python",
   "name": "python3"
  },
  "language_info": {
   "codemirror_mode": {
    "name": "ipython",
    "version": 3
   },
   "file_extension": ".py",
   "mimetype": "text/x-python",
   "name": "python",
   "nbconvert_exporter": "python",
   "pygments_lexer": "ipython3",
   "version": "3.7.6"
  }
 },
 "nbformat": 4,
 "nbformat_minor": 2
}
